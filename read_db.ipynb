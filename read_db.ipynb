{
  "cells": [
    {
      "cell_type": "code",
      "execution_count": 3,
      "metadata": {},
      "outputs": [],
      "source": [
        "import pandas as pd\n",
        "import constants"
      ]
    },
    {
      "cell_type": "markdown",
      "id": "c53c871b",
      "metadata": {},
      "source": []
    },
    {
      "cell_type": "code",
      "execution_count": 3,
      "id": "e253ee52",
      "metadata": {},
      "outputs": [
        {
          "data": {
            "text/html": [
              "<div>\n",
              "<style scoped>\n",
              "    .dataframe tbody tr th:only-of-type {\n",
              "        vertical-align: middle;\n",
              "    }\n",
              "\n",
              "    .dataframe tbody tr th {\n",
              "        vertical-align: top;\n",
              "    }\n",
              "\n",
              "    .dataframe thead th {\n",
              "        text-align: right;\n",
              "    }\n",
              "</style>\n",
              "<table border=\"1\" class=\"dataframe\">\n",
              "  <thead>\n",
              "    <tr style=\"text-align: right;\">\n",
              "      <th></th>\n",
              "      <th>site_code</th>\n",
              "    </tr>\n",
              "  </thead>\n",
              "  <tbody>\n",
              "    <tr>\n",
              "      <th>0</th>\n",
              "      <td>0n0e</td>\n",
              "    </tr>\n",
              "    <tr>\n",
              "      <th>1</th>\n",
              "      <td>0n10w</td>\n",
              "    </tr>\n",
              "    <tr>\n",
              "      <th>2</th>\n",
              "      <td>0n110w</td>\n",
              "    </tr>\n",
              "    <tr>\n",
              "      <th>3</th>\n",
              "      <td>0n125w</td>\n",
              "    </tr>\n",
              "    <tr>\n",
              "      <th>4</th>\n",
              "      <td>0n137e</td>\n",
              "    </tr>\n",
              "    <tr>\n",
              "      <th>...</th>\n",
              "      <td>...</td>\n",
              "    </tr>\n",
              "    <tr>\n",
              "      <th>96</th>\n",
              "      <td>NTAS</td>\n",
              "    </tr>\n",
              "    <tr>\n",
              "      <th>97</th>\n",
              "      <td>Stratus</td>\n",
              "    </tr>\n",
              "    <tr>\n",
              "      <th>98</th>\n",
              "      <td>WHOTS</td>\n",
              "    </tr>\n",
              "    <tr>\n",
              "      <th>99</th>\n",
              "      <td>32n145e</td>\n",
              "    </tr>\n",
              "    <tr>\n",
              "      <th>100</th>\n",
              "      <td>50n145w</td>\n",
              "    </tr>\n",
              "  </tbody>\n",
              "</table>\n",
              "<p>101 rows × 1 columns</p>\n",
              "</div>"
            ],
            "text/plain": [
              "    site_code\n",
              "0        0n0e\n",
              "1       0n10w\n",
              "2      0n110w\n",
              "3      0n125w\n",
              "4      0n137e\n",
              "..        ...\n",
              "96       NTAS\n",
              "97    Stratus\n",
              "98      WHOTS\n",
              "99    32n145e\n",
              "100   50n145w\n",
              "\n",
              "[101 rows x 1 columns]"
            ]
          },
          "execution_count": 3,
          "metadata": {},
          "output_type": "execute_result"
        }
      ],
      "source": [
        "with constants.postgres_engine.connect() as conn:\n",
        "    locations = pd.read_sql(f\"SELECT site_code from locations\", con=conn)\n",
        "locations"
      ]
    },
    {
      "cell_type": "code",
      "execution_count": 4,
      "id": "84e9e372",
      "metadata": {},
      "outputs": [
        {
          "data": {
            "text/html": [
              "<div>\n",
              "<style scoped>\n",
              "    .dataframe tbody tr th:only-of-type {\n",
              "        vertical-align: middle;\n",
              "    }\n",
              "\n",
              "    .dataframe tbody tr th {\n",
              "        vertical-align: top;\n",
              "    }\n",
              "\n",
              "    .dataframe thead th {\n",
              "        text-align: right;\n",
              "    }\n",
              "</style>\n",
              "<table border=\"1\" class=\"dataframe\">\n",
              "  <thead>\n",
              "    <tr style=\"text-align: right;\">\n",
              "      <th></th>\n",
              "      <th>site_code</th>\n",
              "    </tr>\n",
              "  </thead>\n",
              "  <tbody>\n",
              "    <tr>\n",
              "      <th>0</th>\n",
              "      <td>12s67e</td>\n",
              "    </tr>\n",
              "    <tr>\n",
              "      <th>1</th>\n",
              "      <td>6s8e</td>\n",
              "    </tr>\n",
              "    <tr>\n",
              "      <th>2</th>\n",
              "      <td>8n110w</td>\n",
              "    </tr>\n",
              "    <tr>\n",
              "      <th>3</th>\n",
              "      <td>8n156e</td>\n",
              "    </tr>\n",
              "    <tr>\n",
              "      <th>4</th>\n",
              "      <td>0n125w</td>\n",
              "    </tr>\n",
              "    <tr>\n",
              "      <th>...</th>\n",
              "      <td>...</td>\n",
              "    </tr>\n",
              "    <tr>\n",
              "      <th>96</th>\n",
              "      <td>12n38w</td>\n",
              "    </tr>\n",
              "    <tr>\n",
              "      <th>97</th>\n",
              "      <td>12s55e</td>\n",
              "    </tr>\n",
              "    <tr>\n",
              "      <th>98</th>\n",
              "      <td>8s95w</td>\n",
              "    </tr>\n",
              "    <tr>\n",
              "      <th>99</th>\n",
              "      <td>25s100e</td>\n",
              "    </tr>\n",
              "    <tr>\n",
              "      <th>100</th>\n",
              "      <td>0n95w</td>\n",
              "    </tr>\n",
              "  </tbody>\n",
              "</table>\n",
              "<p>101 rows × 1 columns</p>\n",
              "</div>"
            ],
            "text/plain": [
              "    site_code\n",
              "0      12s67e\n",
              "1        6s8e\n",
              "2      8n110w\n",
              "3      8n156e\n",
              "4      0n125w\n",
              "..        ...\n",
              "96     12n38w\n",
              "97     12s55e\n",
              "98      8s95w\n",
              "99    25s100e\n",
              "100     0n95w\n",
              "\n",
              "[101 rows x 1 columns]"
            ]
          },
          "execution_count": 4,
          "metadata": {},
          "output_type": "execute_result"
        }
      ],
      "source": [
        "with constants.postgres_engine.connect() as conn:\n",
        "    nobslocs = pd.read_sql(f\"SELECT DISTINCT site_code from nobs\", con=conn)\n",
        "nobslocs"
      ]
    },
    {
      "cell_type": "code",
      "execution_count": 5,
      "id": "c18742fe",
      "metadata": {},
      "outputs": [
        {
          "data": {
            "text/plain": [
              "(866718000.0, 1645722000.0)"
            ]
          },
          "execution_count": 5,
          "metadata": {},
          "output_type": "execute_result"
        }
      ],
      "source": [
        "with constants.postgres_engine.connect() as conn:\n",
        "    times = pd.read_sql(f'SELECT MIN(start_date_seconds), MAX(end_date_seconds) from metadata', con=conn)\n",
        "times['min'].values[0], times['max'].values[0]"
      ]
    },
    {
      "cell_type": "code",
      "execution_count": 12,
      "id": "6a9248e3",
      "metadata": {},
      "outputs": [
        {
          "data": {
            "text/plain": [
              "['tao_flux_absolute',\n",
              " 'ocs_keo_flux',\n",
              " 'tao_flux_clim_lwr_relative',\n",
              " 'tao_flux_clim_lwr_absolute',\n",
              " 'tao_flux_relative',\n",
              " 'ocs_papa_flux']"
            ]
          },
          "execution_count": 12,
          "metadata": {},
          "output_type": "execute_result"
        }
      ],
      "source": [
        "with constants.postgres_engine.connect() as conn:\n",
        "    dids = pd.read_sql(f\"SELECT DISTINCT did from variables WHERE short_name='TAUX' or short_name='TAUY'\", con=conn)\n",
        "list(dids['did'].values)"
      ]
    },
    {
      "cell_type": "code",
      "execution_count": 6,
      "id": "0fdaf4e6",
      "metadata": {},
      "outputs": [
        {
          "data": {
            "text/html": [
              "<div>\n",
              "<style scoped>\n",
              "    .dataframe tbody tr th:only-of-type {\n",
              "        vertical-align: middle;\n",
              "    }\n",
              "\n",
              "    .dataframe tbody tr th {\n",
              "        vertical-align: top;\n",
              "    }\n",
              "\n",
              "    .dataframe thead th {\n",
              "        text-align: right;\n",
              "    }\n",
              "</style>\n",
              "<table border=\"1\" class=\"dataframe\">\n",
              "  <thead>\n",
              "    <tr style=\"text-align: right;\">\n",
              "      <th></th>\n",
              "      <th>site_code</th>\n",
              "      <th>question_id</th>\n",
              "      <th>question_title</th>\n",
              "      <th>short_string</th>\n",
              "      <th>did</th>\n",
              "    </tr>\n",
              "  </thead>\n",
              "  <tbody>\n",
              "    <tr>\n",
              "      <th>0</th>\n",
              "      <td>Stratus</td>\n",
              "      <td>precip</td>\n",
              "      <td>Stations with Precipitation</td>\n",
              "      <td>RAIN</td>\n",
              "      <td>WHOI_flux</td>\n",
              "    </tr>\n",
              "  </tbody>\n",
              "</table>\n",
              "</div>"
            ],
            "text/plain": [
              "  site_code question_id               question_title short_string        did\n",
              "0   Stratus      precip  Stations with Precipitation         RAIN  WHOI_flux"
            ]
          },
          "execution_count": 6,
          "metadata": {},
          "output_type": "execute_result"
        }
      ],
      "source": [
        "with constants.postgres_engine.connect() as conn:\n",
        "    df = pd.read_sql(\"SELECT * from discovery WHERE site_code='Stratus' AND question_id='precip'\", con=conn)\n",
        "df"
      ]
    },
    {
      "cell_type": "code",
      "execution_count": 9,
      "id": "25e8f9ef",
      "metadata": {},
      "outputs": [
        {
          "data": {
            "text/html": [
              "<div>\n",
              "<style scoped>\n",
              "    .dataframe tbody tr th:only-of-type {\n",
              "        vertical-align: middle;\n",
              "    }\n",
              "\n",
              "    .dataframe tbody tr th {\n",
              "        vertical-align: top;\n",
              "    }\n",
              "\n",
              "    .dataframe thead th {\n",
              "        text-align: right;\n",
              "    }\n",
              "</style>\n",
              "<table border=\"1\" class=\"dataframe\">\n",
              "  <thead>\n",
              "    <tr style=\"text-align: right;\">\n",
              "      <th></th>\n",
              "      <th>site_code</th>\n",
              "      <th>question_id</th>\n",
              "      <th>question_title</th>\n",
              "      <th>short_string</th>\n",
              "      <th>did</th>\n",
              "    </tr>\n",
              "  </thead>\n",
              "  <tbody>\n",
              "    <tr>\n",
              "      <th>0</th>\n",
              "      <td>0n110w</td>\n",
              "      <td>net_surface_flux</td>\n",
              "      <td>Stations with Net Surface Heat Flux</td>\n",
              "      <td>QNET</td>\n",
              "      <td>tao_flux_absolute</td>\n",
              "    </tr>\n",
              "    <tr>\n",
              "      <th>1</th>\n",
              "      <td>0n110w</td>\n",
              "      <td>net_surface_flux</td>\n",
              "      <td>Stations with Net Surface Heat Flux</td>\n",
              "      <td>QNET</td>\n",
              "      <td>tao_flux_relative</td>\n",
              "    </tr>\n",
              "  </tbody>\n",
              "</table>\n",
              "</div>"
            ],
            "text/plain": [
              "  site_code       question_id                       question_title  \\\n",
              "0    0n110w  net_surface_flux  Stations with Net Surface Heat Flux   \n",
              "1    0n110w  net_surface_flux  Stations with Net Surface Heat Flux   \n",
              "\n",
              "  short_string                did  \n",
              "0         QNET  tao_flux_absolute  \n",
              "1         QNET  tao_flux_relative  "
            ]
          },
          "execution_count": 9,
          "metadata": {},
          "output_type": "execute_result"
        }
      ],
      "source": [
        "with constants.postgres_engine.connect() as conn:\n",
        "    df = pd.read_sql(\"SELECT * from discovery WHERE site_code='0n110w' AND question_id='net_surface_flux'\", con=conn)\n",
        "df"
      ]
    }
  ],
  "metadata": {
    "kernelspec": {
      "display_name": "Python 3",
      "language": "python",
      "name": "python3"
    },
    "language_info": {
      "codemirror_mode": {
        "name": "ipython",
        "version": 3
      },
      "file_extension": ".py",
      "mimetype": "text/x-python",
      "name": "python",
      "nbconvert_exporter": "python",
      "pygments_lexer": "ipython3",
      "version": "3.8.16"
    }
  },
  "nbformat": 4,
  "nbformat_minor": 5
}
